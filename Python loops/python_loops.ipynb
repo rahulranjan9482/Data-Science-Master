{
 "cells": [
  {
   "cell_type": "markdown",
   "metadata": {},
   "source": [
    "Q1:- Write a program to accepts percentage from the user and display the grade according to the following criteria. "
   ]
  },
  {
   "cell_type": "code",
   "execution_count": 3,
   "metadata": {},
   "outputs": [
    {
     "name": "stdout",
     "output_type": "stream",
     "text": [
      "Your grade is B\n"
     ]
    }
   ],
   "source": [
    "percentage = float(input(\"Enter your marks : \"))\n",
    "if percentage >= 90:\n",
    "    print(\"Your grade is A\")\n",
    "elif percentage >= 80:\n",
    "    print(\"Your grade is B\")\n",
    "elif percentage >= 60:\n",
    "    print(\"Your garde is C\")  \n",
    "else:\n",
    "      print(\"Your grade is D\")  "
   ]
  },
  {
   "cell_type": "markdown",
   "metadata": {},
   "source": [
    "Q2:- Write a program to accepts the cost price of a bike and display the road tax to be paid according to the following criteria."
   ]
  },
  {
   "cell_type": "code",
   "execution_count": 6,
   "metadata": {},
   "outputs": [
    {
     "name": "stdout",
     "output_type": "stream",
     "text": [
      "Road tax to be paid:  10000.0\n"
     ]
    }
   ],
   "source": [
    "\n",
    "cost_price = float(input(\"Enter the cost price of the bike: \"))\n",
    "road_tax = 1\n",
    "if cost_price <= 50000:\n",
    "   road_tax = 0.05*cost_price\n",
    "   print(\"Road tax to be paid: \", road_tax)\n",
    "elif cost_price <= 100000:\n",
    "   road_tax = 0.10*cost_price\n",
    "   print(\"Road tax to be paid: \", road_tax)\n",
    "else:\n",
    "   road_tax = 0.15*cost_price\n",
    "   print(\"Road tax to be paid: \", road_tax)\n",
    "\n",
    "        "
   ]
  },
  {
   "cell_type": "markdown",
   "metadata": {},
   "source": [
    "Q3:- Accepts  any city from the user and display monuements of that city."
   ]
  },
  {
   "cell_type": "code",
   "execution_count": 9,
   "metadata": {},
   "outputs": [
    {
     "name": "stdout",
     "output_type": "stream",
     "text": [
      "Monuments in Jaipur :\n",
      "- Jal mahal\n"
     ]
    }
   ],
   "source": [
    "city = input(\"Enter the name of a city: \")\n",
    "monuments={\"Delhi\":[\"Red fort\"],\"Agra\":[\"Taj mahal\"],\"Jaipur\":[\"Jal mahal\"]}\n",
    "if city in monuments:\n",
    "        print(\"Monuments in\", city, \":\")\n",
    "        for monument in monuments[city]:\n",
    "            print(\"-\", monument)\n",
    "else:\n",
    "    print(\"Sorry, monuments for\", city, \"are not available.\")"
   ]
  },
  {
   "cell_type": "markdown",
   "metadata": {},
   "source": [
    "Q4:- Check how many times a given number can be divided by 3 before it is less or equal to 10."
   ]
  },
  {
   "cell_type": "code",
   "execution_count": 12,
   "metadata": {},
   "outputs": [
    {
     "name": "stdout",
     "output_type": "stream",
     "text": [
      "The given number can be divided by 3 2 times before it becomes less than or equal to 10.\n"
     ]
    }
   ],
   "source": [
    "number = float(input(\"Enter a number grater than 10: \"))\n",
    "count = 0\n",
    "while number > 10:\n",
    "    number /= 3\n",
    "    count += 1\n",
    "print(\"The given number can be divided by 3\", count, \"times before it becomes less than or equal to 10.\")"
   ]
  },
  {
   "cell_type": "markdown",
   "metadata": {},
   "source": [
    "Q5:- Why and when to use while loop in python give a detailed description with example."
   ]
  },
  {
   "cell_type": "markdown",
   "metadata": {},
   "source": [
    "\n",
    "The while loop in Python is used to execute a block of code repeatedly as long as a specified condition is true. It's ideal when you need to repeat a set of instructions until a particular condition is met. Here's a detailed description along with an example:\n",
    "\n",
    "Why Use a while Loop?\n",
    "\n",
    "When the Number of Iterations is Not Known in Advance:\n",
    "Unlike for loops, where the number of iterations is predetermined, while loops are suitable when the number of iterations is uncertain and depends on some condition being true.\n",
    "\n",
    "Dynamic Termination:\n",
    "while loops are useful when you need to continue looping until a specific condition is met. The condition can be based on user input, the result of a calculation, or the state of variables.\n",
    "\n",
    "Iterating Over Data Stream:\n",
    "In scenarios where you're reading data from a stream or an external source and need to process it until there's no more data available, while loops are preferred."
   ]
  },
  {
   "cell_type": "code",
   "execution_count": 13,
   "metadata": {},
   "outputs": [
    {
     "name": "stdout",
     "output_type": "stream",
     "text": [
      "1\n",
      "2\n",
      "3\n",
      "4\n",
      "5\n"
     ]
    }
   ],
   "source": [
    "num = 1\n",
    "while num <= 5:\n",
    "    print(num)\n",
    "    num += 1"
   ]
  },
  {
   "cell_type": "markdown",
   "metadata": {},
   "source": [
    "Use Cases:\n",
    "\n",
    "User Input Validation:\n",
    "\n",
    "You can use a while loop to repeatedly ask the user for input until they provide valid input.\n",
    "\n",
    "Searching and Processing Data:\n",
    "\n",
    "When searching through data structures like lists or dictionaries, you might use a while loop to iterate until a specific item is found or a condition is met.\n",
    "\n",
    "Simulation and Modeling:\n",
    "\n",
    "In simulations or modeling scenarios, where you're modeling dynamic systems, while loops can be used to iterate through time steps until a specific condition (e.g., reaching equilibrium) is satisfied.\n",
    "\n",
    "When Not to Use while Loops:\n",
    "\n",
    "While while loops are powerful, there are situations where they might not be the best choice:\n",
    "\n",
    "If you're iterating over a known sequence or collection, a for loop might be more appropriate and concise.\n",
    "\n",
    "Be cautious of infinite loops. Ensure that your loop's condition eventually becomes false; otherwise, the loop will run indefinitely."
   ]
  },
  {
   "cell_type": "markdown",
   "metadata": {},
   "source": [
    "Q6:- USe nested while loop print to print 3 different pattern"
   ]
  },
  {
   "cell_type": "markdown",
   "metadata": {},
   "source": [
    "Pattern1 : Sqaure pattern"
   ]
  },
  {
   "cell_type": "code",
   "execution_count": 14,
   "metadata": {},
   "outputs": [
    {
     "name": "stdout",
     "output_type": "stream",
     "text": [
      "* * * * * \n",
      "* * * * * \n",
      "* * * * * \n",
      "* * * * * \n",
      "* * * * * \n"
     ]
    }
   ],
   "source": [
    "n = 5\n",
    "row = 0\n",
    "while row < n:\n",
    "    col = 0\n",
    "    while col < n:\n",
    "        print(\"*\", end=\" \")\n",
    "        col += 1\n",
    "    print()\n",
    "    row += 1"
   ]
  },
  {
   "cell_type": "markdown",
   "metadata": {},
   "source": [
    "Pattern2:- Right Traiangle pattern"
   ]
  },
  {
   "cell_type": "code",
   "execution_count": 15,
   "metadata": {},
   "outputs": [
    {
     "name": "stdout",
     "output_type": "stream",
     "text": [
      "* \n",
      "* * \n",
      "* * * \n",
      "* * * * \n",
      "* * * * * \n"
     ]
    }
   ],
   "source": [
    "n = 5\n",
    "row = 0\n",
    "while row < n:\n",
    "    col = 0\n",
    "    while col <= row:\n",
    "        print(\"*\", end=\" \")\n",
    "        col += 1\n",
    "    print()\n",
    "    row += 1"
   ]
  },
  {
   "cell_type": "markdown",
   "metadata": {},
   "source": [
    "Pattern3:- Upside - Down Right Triangle Pattern"
   ]
  },
  {
   "cell_type": "code",
   "execution_count": 16,
   "metadata": {},
   "outputs": [
    {
     "name": "stdout",
     "output_type": "stream",
     "text": [
      "* * * * * \n",
      "* * * * \n",
      "* * * \n",
      "* * \n",
      "* \n"
     ]
    }
   ],
   "source": [
    "\n",
    "\n",
    "\n",
    "n = 5\n",
    "row = n\n",
    "while row > 0:\n",
    "    col = 0\n",
    "    while col < row:\n",
    "        print(\"*\", end=\" \")\n",
    "        col += 1\n",
    "    print()\n",
    "    row -= 1"
   ]
  },
  {
   "cell_type": "markdown",
   "metadata": {},
   "source": [
    "Q7:- REverse a while loop to display numbers from 10 to 1."
   ]
  },
  {
   "cell_type": "code",
   "execution_count": 17,
   "metadata": {},
   "outputs": [
    {
     "name": "stdout",
     "output_type": "stream",
     "text": [
      "10\n",
      "9\n",
      "8\n",
      "7\n",
      "6\n",
      "5\n",
      "4\n",
      "3\n",
      "2\n",
      "1\n"
     ]
    }
   ],
   "source": [
    "num = 10\n",
    "while num >= 1:\n",
    "    print(num)\n",
    "    num -= 1"
   ]
  },
  {
   "cell_type": "markdown",
   "metadata": {},
   "source": [
    "Q8 :- Reverse a while loop to display number 10 to 1."
   ]
  },
  {
   "cell_type": "code",
   "execution_count": 18,
   "metadata": {},
   "outputs": [
    {
     "name": "stdout",
     "output_type": "stream",
     "text": [
      "10\n",
      "9\n",
      "8\n",
      "7\n",
      "6\n",
      "5\n",
      "4\n",
      "3\n",
      "2\n",
      "1\n"
     ]
    }
   ],
   "source": [
    "num = 10\n",
    "while num>=1:\n",
    "    print(num)\n",
    "    num-=1"
   ]
  }
 ],
 "metadata": {
  "kernelspec": {
   "display_name": "Python 3",
   "language": "python",
   "name": "python3"
  },
  "language_info": {
   "codemirror_mode": {
    "name": "ipython",
    "version": 3
   },
   "file_extension": ".py",
   "mimetype": "text/x-python",
   "name": "python",
   "nbconvert_exporter": "python",
   "pygments_lexer": "ipython3",
   "version": "3.12.2"
  }
 },
 "nbformat": 4,
 "nbformat_minor": 2
}
