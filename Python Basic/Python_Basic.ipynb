{
 "cells": [
  {
   "cell_type": "markdown",
   "metadata": {},
   "source": [
    "Q1:- Who development Python programming language ?"
   ]
  },
  {
   "cell_type": "markdown",
   "metadata": {},
   "source": [
    "Guido van Rossum\n"
   ]
  },
  {
   "cell_type": "markdown",
   "metadata": {},
   "source": [
    "Q2:- Which type of programming does python support ?"
   ]
  },
  {
   "cell_type": "markdown",
   "metadata": {},
   "source": [
    "Procedural Programming: Python allows you to write code in a procedural style, where you create procedures or functions and execute them sequentially.\n",
    "\n",
    "Object-Oriented Programming (OOP): Python is well-suited for OOP, allowing you to create classes and objects, encapsulate data and behavior within those objects, and inherit properties and methods from other classes.\n",
    "\n",
    "Functional Programming: Python supports functional programming concepts such as first-class functions, lambda expressions, and higher-order functions. Libraries like functools and itertools provide additional support for functional programming techniques.\n",
    "\n",
    "Imperative Programming: Python allows you to write imperative code, where you explicitly specify the sequence of steps to perform to achieve a desired outcome.\n",
    "\n",
    "Declarative Programming: While not as pure as languages like Haskell, Python also supports some declarative programming paradigms, particularly in libraries like NumPy and pandas, where you can express what you want to achieve without necessarily specifying how to achieve it in detail."
   ]
  },
  {
   "cell_type": "markdown",
   "metadata": {},
   "source": [
    "Q3:- IS python case sensitive when dealing with identifiers?"
   ]
  },
  {
   "cell_type": "markdown",
   "metadata": {},
   "source": [
    "\n",
    "Yes, Python is case-sensitive when dealing with identifiers such as variable names, function names, class names, and so on. This means that variable, Variable, and VARIABLE would all be treated as different identifiers in Python."
   ]
  },
  {
   "cell_type": "markdown",
   "metadata": {},
   "source": [
    "Q4:- What is the correct exenstion of the python file?"
   ]
  },
  {
   "cell_type": "markdown",
   "metadata": {},
   "source": [
    "\n",
    "The correct extension for a Python file is .py. "
   ]
  },
  {
   "cell_type": "markdown",
   "metadata": {},
   "source": [
    "Q5:- Is python code compiled or interpreted?"
   ]
  },
  {
   "cell_type": "markdown",
   "metadata": {},
   "source": [
    "Interpreted"
   ]
  },
  {
   "cell_type": "markdown",
   "metadata": {},
   "source": [
    "Q6:- Name a few blocks of code used define in python programming?"
   ]
  },
  {
   "cell_type": "markdown",
   "metadata": {},
   "source": [
    "Blocks of code are defined using indentation. Here are a few examples of code blocks commonly used in Python:\n",
    "\n",
    "Function Definition: A block of code defining a function."
   ]
  },
  {
   "cell_type": "code",
   "execution_count": 1,
   "metadata": {},
   "outputs": [],
   "source": [
    "def my_function():\n",
    "    print(\"This is inside the function\")"
   ]
  },
  {
   "cell_type": "markdown",
   "metadata": {},
   "source": [
    "Conditional Statements: Blocks of code executed conditionally based on certain conditions."
   ]
  },
  {
   "cell_type": "code",
   "execution_count": null,
   "metadata": {},
   "outputs": [],
   "source": [
    "if condition:\n",
    "    print(\"Condition is true\")\n",
    "else:\n",
    "    print(\"Condition is false\")\n"
   ]
  },
  {
   "cell_type": "markdown",
   "metadata": {},
   "source": [
    "Looping Constructs: Blocks of code executed repeatedly."
   ]
  },
  {
   "cell_type": "code",
   "execution_count": null,
   "metadata": {},
   "outputs": [],
   "source": [
    "for item in iterable:\n",
    "    print(item)\n"
   ]
  },
  {
   "cell_type": "markdown",
   "metadata": {},
   "source": [
    "Exception Handling: Blocks of code to handle exceptions."
   ]
  },
  {
   "cell_type": "code",
   "execution_count": 3,
   "metadata": {},
   "outputs": [
    {
     "name": "stdout",
     "output_type": "stream",
     "text": [
      "Error: Division by zero\n"
     ]
    }
   ],
   "source": [
    "try:\n",
    "    result = 10 / 0\n",
    "except ZeroDivisionError:\n",
    "    print(\"Error: Division by zero\")\n"
   ]
  },
  {
   "cell_type": "markdown",
   "metadata": {},
   "source": [
    "Class Definitions: Blocks of code defining a class."
   ]
  },
  {
   "cell_type": "code",
   "execution_count": 4,
   "metadata": {},
   "outputs": [],
   "source": [
    "class MyClass:\n",
    "    def __init__(self):\n",
    "        pass\n",
    "\n",
    "    def my_method(self):\n",
    "        print(\"This is inside a method\")"
   ]
  },
  {
   "cell_type": "markdown",
   "metadata": {},
   "source": [
    "Q7:- State a character used to single line comments in python?"
   ]
  },
  {
   "cell_type": "code",
   "execution_count": 5,
   "metadata": {},
   "outputs": [
    {
     "name": "stdout",
     "output_type": "stream",
     "text": [
      "Hello, World!\n"
     ]
    }
   ],
   "source": [
    "# This is a single-line comment\n",
    "print(\"Hello, World!\")  # This is also a comment"
   ]
  },
  {
   "cell_type": "markdown",
   "metadata": {},
   "source": [
    "Q8:- Mention functions which can help us to find the version of python that we are currently working on?"
   ]
  },
  {
   "cell_type": "markdown",
   "metadata": {},
   "source": [
    "In Python, you can use various functions and attributes to find out the version of Python you are currently working with. Here are a few methods:\n",
    "\n",
    "sys module: The sys module provides access to some variables used or maintained by the Python interpreter and to functions that interact with the interpreter. You can use sys.version to get the Python version information."
   ]
  },
  {
   "cell_type": "code",
   "execution_count": 6,
   "metadata": {},
   "outputs": [
    {
     "name": "stdout",
     "output_type": "stream",
     "text": [
      "3.12.2 (tags/v3.12.2:6abddd9, Feb  6 2024, 21:26:36) [MSC v.1937 64 bit (AMD64)]\n"
     ]
    }
   ],
   "source": [
    "import sys\n",
    "print(sys.version)"
   ]
  },
  {
   "cell_type": "markdown",
   "metadata": {},
   "source": [
    "platform module: The platform module provides various functions to retrieve information about the underlying platform and hardware. You can use platform.python_version() to get the Python version."
   ]
  },
  {
   "cell_type": "code",
   "execution_count": 8,
   "metadata": {},
   "outputs": [
    {
     "name": "stdout",
     "output_type": "stream",
     "text": [
      "3.12.2\n"
     ]
    }
   ],
   "source": [
    "import platform\n",
    "print(platform.python_version())"
   ]
  },
  {
   "cell_type": "markdown",
   "metadata": {},
   "source": [
    "sysconfig module: The sysconfig module provides access to Python's configuration information. You can use sysconfig.get_python_version() to get the Python version."
   ]
  },
  {
   "cell_type": "code",
   "execution_count": 9,
   "metadata": {},
   "outputs": [
    {
     "name": "stdout",
     "output_type": "stream",
     "text": [
      "3.12\n"
     ]
    }
   ],
   "source": [
    "import sysconfig\n",
    "print(sysconfig.get_python_version())"
   ]
  },
  {
   "cell_type": "markdown",
   "metadata": {},
   "source": [
    "sys.version_info: The sys.version_info attribute returns a tuple containing the five components of the version number: major, minor, micro, release level, and serial."
   ]
  },
  {
   "cell_type": "code",
   "execution_count": 10,
   "metadata": {},
   "outputs": [
    {
     "name": "stdout",
     "output_type": "stream",
     "text": [
      "sys.version_info(major=3, minor=12, micro=2, releaselevel='final', serial=0)\n"
     ]
    }
   ],
   "source": [
    "import sys\n",
    "print(sys.version_info)"
   ]
  },
  {
   "cell_type": "markdown",
   "metadata": {},
   "source": [
    "Q9:- Python supports the creation of anonymous function at runtime. Using a construct called."
   ]
  },
  {
   "cell_type": "markdown",
   "metadata": {},
   "source": [
    "\n",
    "Python supports the creation of anonymous functions at runtime using a construct called \"lambda\" functions. Lambda functions are small, anonymous functions defined using the lambda keyword. They are particularly useful when you need a simple function for a short period of time and don't want to define a named function using the def keyword."
   ]
  },
  {
   "cell_type": "code",
   "execution_count": 11,
   "metadata": {},
   "outputs": [
    {
     "name": "stdout",
     "output_type": "stream",
     "text": [
      "8\n"
     ]
    }
   ],
   "source": [
    "#Here's the general syntax of a lambda function:\n",
    "lambda arguments: expression\n",
    "# For example, a lambda function that adds two numbers together could be defined as follows:\n",
    "add = lambda x, y: x + y\n",
    "#You can then call this lambda function just like any other function:\n",
    "result = add(3, 5)\n",
    "print(result)"
   ]
  },
  {
   "cell_type": "markdown",
   "metadata": {},
   "source": [
    "Q10:- What does pip stand for python?"
   ]
  },
  {
   "cell_type": "markdown",
   "metadata": {},
   "source": [
    "The term \"pip\" originally stood for \"Pip Installs Packages\". It's a recursive acronym, a common convention in the open-source community where an acronym is self-referential. Pip is the standard package manager for Python, used to install and manage software packages written in Python. It simplifies the process of installing, upgrading, and managing Python libraries and dependencies for projects."
   ]
  },
  {
   "cell_type": "markdown",
   "metadata": {},
   "source": [
    "Q11:- Mention a few build in function in python?"
   ]
  },
  {
   "cell_type": "markdown",
   "metadata": {},
   "source": [
    "print(): Used to print the specified content to the standard output.\n",
    "\n",
    "len(): Returns the length (the number of items) of an object like a string, tuple, list, dictionary, etc.\n",
    "\n",
    "input(): Reads a line from input, converts it into a string, and returns it.\n",
    "\n",
    "type(): Returns the type of the specified object.\n",
    "\n",
    "int(): Returns an integer object constructed from a number or string.\n",
    "\n",
    "float(): Returns a floating-point number constructed from a number or string.\n",
    "\n",
    "str(): Returns a string version of the specified object.\n",
    "\n",
    "list(): Returns a list.\n",
    "\n",
    "tuple(): Returns a tuple.\n",
    "\n",
    "dict(): Returns a dictionary.\n",
    "\n",
    "range(): Returns an immutable sequence of numbers.\n",
    "\n",
    "max(): Returns the largest item in an iterable or the largest of two or more arguments.\n",
    "\n",
    "min(): Returns the smallest item in an iterable or the smallest of two or more arguments.\n",
    "\n",
    "sum(): Returns the sum of all elements in an iterable.\n",
    "\n",
    "sorted(): Returns a new sorted list from the elements of any iterable."
   ]
  },
  {
   "cell_type": "markdown",
   "metadata": {},
   "source": [
    "Q12:- What is the maximum possible length of an identifers in python?"
   ]
  },
  {
   "cell_type": "markdown",
   "metadata": {},
   "source": [
    "\n",
    "The maximum length of an identifier (variable name, function name, class name, etc.) is not explicitly defined by the language specification. However, Python's identifier naming rules typically limit the length of identifiers to the maximum length supported by the underlying system or compiler."
   ]
  },
  {
   "cell_type": "markdown",
   "metadata": {},
   "source": [
    "Q13:- What are the benefits of using python?"
   ]
  },
  {
   "cell_type": "markdown",
   "metadata": {},
   "source": [
    "Python offers numerous benefits that contribute to its popularity among developers. Here are some key advantages of using Python:\n",
    "\n",
    "Readable and Concise Syntax: Python's clean and straightforward syntax emphasizes readability and reduces the cost of program maintenance. This makes it easier to understand and write code, particularly for beginners.\n",
    "\n",
    "Versatility and Flexibility: Python supports multiple programming paradigms, including procedural, object-oriented, and functional programming, allowing developers to choose the most appropriate approach for their projects. It's also widely used in various domains, including web development, data science, machine learning, artificial intelligence, automation, and more.\n",
    "\n",
    "Large Standard Library: Python comes with a vast standard library that provides ready-to-use modules and functions for common tasks, eliminating the need to write code from scratch. This extensive library ecosystem simplifies development and accelerates the prototyping process.\n",
    "\n",
    "Active Community and Support: Python has a large and active community of developers, enthusiasts, and contributors who continuously improve the language, develop new libraries and frameworks, and provide support through forums, documentation, tutorials, and online resources.\n",
    "\n",
    "Cross-Platform Compatibility: Python is cross-platform, meaning it runs on various operating systems, including Windows, macOS, Linux, and Unix. This portability allows developers to write code once and deploy it across different platforms without significant modifications.\n",
    "\n",
    "Highly Extensible: Python can be easily extended using modules and libraries written in other languages like C and C++. This capability enables developers to integrate existing codebases, leverage performance-critical functionality, and extend Python's capabilities as needed.\n",
    "\n",
    "Strong Integration Capabilities: Python seamlessly integrates with other languages and technologies, facilitating interoperability with databases, web servers, message queues, APIs, and more. It supports numerous protocols and data formats, making it an ideal choice for building distributed systems and web applications.\n",
    "\n",
    "Rapid Development and Prototyping: Python's concise syntax, dynamic typing, and high-level abstractions promote rapid development and prototyping, enabling developers to iterate quickly, experiment with ideas, and bring products to market faster."
   ]
  },
  {
   "cell_type": "markdown",
   "metadata": {},
   "source": [
    "Q14:- How is memory managed in python?"
   ]
  },
  {
   "cell_type": "markdown",
   "metadata": {},
   "source": [
    "n Python, memory management is handled by the Python memory manager, which is responsible for allocating and deallocating memory as needed by the Python interpreter. Here are some key aspects of memory management in Python:\n",
    "\n",
    "Automatic Memory Allocation and Deallocation: Python uses automatic memory management, also known as garbage collection, to automatically allocate memory for objects when they are created and deallocate memory when they are no longer in use. This process helps manage memory efficiently and prevents memory leaks.\n",
    "\n",
    "Reference Counting: Python uses reference counting as one of its primary memory management strategies. Each object in memory has a reference count, which tracks the number of references to that object. When an object's reference count drops to zero, meaning there are no more references to it, the memory occupied by the object is deallocated.\n",
    "\n",
    "Garbage Collection: In addition to reference counting, Python also employs a garbage collector to reclaim memory from objects with cyclic references or objects that are no longer reachable. The garbage collector periodically runs in the background to identify and collect unreferenced objects, freeing up memory for reuse.\n",
    "\n",
    "Memory Pool: Python maintains a memory pool, which is a collection of pre-allocated memory blocks of various sizes. When an object needs to be allocated, Python retrieves memory from the memory pool rather than directly from the operating system, reducing the overhead of memory allocation.\n",
    "\n",
    "Memory Optimizations: Python implements various memory optimization techniques to minimize memory usage and improve performance. These optimizations include object reuse, memory sharing, and efficient data structures to reduce memory fragmentation and overhead."
   ]
  },
  {
   "cell_type": "markdown",
   "metadata": {},
   "source": [
    "Q15:- How to install python on windows and set path variables?"
   ]
  },
  {
   "cell_type": "markdown",
   "metadata": {},
   "source": [
    "To install Python on Windows and set up path variables, you can follow these steps:\n",
    "\n",
    "Download Python:\n",
    "\n",
    "Go to the official Python website: https://www.python.org/downloads/\n",
    "Download the latest version of Python for Windows.\n",
    "Choose either the 64-bit or 32-bit installer based on your system architecture.\n",
    "Run the Installer:\n",
    "\n",
    "Once the download is complete, run the installer.\n",
    "Check the box that says \"Add Python to PATH\" during installation. This option is essential for setting up path variables automatically.\n",
    "Follow the installation wizard's instructions and complete the installation.\n",
    "Verify Installation:\n",
    "\n",
    "Open Command Prompt by searching for it in the Start menu or pressing Win + R, typing cmd, and hitting Enter.\n",
    "Type python --version and press Enter. You should see the installed Python version displayed.\n",
    "Set Up Path Variables (If Necessary):\n",
    "\n",
    "If the Python installer didn't set up the path variables automatically or you chose not to during installation, you'll need to set them manually.\n",
    "Right-click on \"This PC\" or \"My Computer\" and select \"Properties.\"\n",
    "Click on \"Advanced system settings\" on the left-hand side.\n",
    "In the System Properties window, click on the \"Environment Variables...\" button.\n",
    "In the Environment Variables window, under \"System variables,\" find the \"Path\" variable and select it.\n",
    "Click the \"Edit...\" button.\n",
    "In the Edit Environment Variable window, click \"New\" and add the path to your Python installation directory. By default, it's something like C:\\Python39 for Python 3.9.\n",
    "Click \"OK\" to close each window.\n",
    "Verify Path Variable Setup:\n",
    "\n",
    "Open a new Command Prompt window.\n",
    "Type python and press Enter. If Python is installed correctly and the path variable is set up properly, you should enter the Python interpreter, and you'll see the >>> prompt."
   ]
  },
  {
   "cell_type": "markdown",
   "metadata": {},
   "source": [
    "Q16:- IS indenatation requried in python?"
   ]
  },
  {
   "cell_type": "markdown",
   "metadata": {},
   "source": [
    "\n",
    "Yes, indentation is required in Python. Unlike many other programming languages that use braces {} or keywords like begin and end to define blocks of code, Python uses indentation to indicate blocks of code.\n",
    "\n",
    "Indentation is crucial for Python's syntax and structure because it determines the scope of control flow statements (such as if statements, loops, and function definitions). Incorrect indentation can lead to syntax errors or unexpected behavior in your code."
   ]
  },
  {
   "cell_type": "code",
   "execution_count": null,
   "metadata": {},
   "outputs": [],
   "source": [
    "if x > 5:\n",
    "    print(\"x is greater than 5\")\n",
    "else:\n",
    "    print(\"x is not greater than 5\")"
   ]
  }
 ],
 "metadata": {
  "kernelspec": {
   "display_name": "Python 3",
   "language": "python",
   "name": "python3"
  },
  "language_info": {
   "codemirror_mode": {
    "name": "ipython",
    "version": 3
   },
   "file_extension": ".py",
   "mimetype": "text/x-python",
   "name": "python",
   "nbconvert_exporter": "python",
   "pygments_lexer": "ipython3",
   "version": "3.12.2"
  }
 },
 "nbformat": 4,
 "nbformat_minor": 2
}
