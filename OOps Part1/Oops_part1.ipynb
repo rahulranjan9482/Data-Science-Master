{
 "cells": [
  {
   "cell_type": "markdown",
   "metadata": {},
   "source": [
    "Q1:- Explain Class and Object with respect to Object-Oriented Programming. Give a suitable example."
   ]
  },
  {
   "cell_type": "markdown",
   "metadata": {},
   "source": [
    "\n",
    "In object-oriented programming (OOP), a class is a blueprint for creating objects. It defines the properties (attributes) and behaviors (methods) that objects of that type will have. Think of a class as a template or a cookie cutter that describes what an object will look like and how it will behave."
   ]
  },
  {
   "cell_type": "code",
   "execution_count": 1,
   "metadata": {},
   "outputs": [
    {
     "name": "stdout",
     "output_type": "stream",
     "text": [
      "Name: Pw skills\n",
      "Employee ID: 1001\n",
      "Position: Manager\n",
      "Name: Rahul Ranjan\n",
      "Employee ID: 1002\n",
      "Position: Developer\n"
     ]
    }
   ],
   "source": [
    "class Employee:\n",
    "    def __init__(self, name, emp_id, position):\n",
    "        self.name = name\n",
    "        self.emp_id = emp_id\n",
    "        self.position = position\n",
    "\n",
    "    def display_info(self):\n",
    "        print(f\"Name: {self.name}\")\n",
    "        print(f\"Employee ID: {self.emp_id}\")\n",
    "        print(f\"Position: {self.position}\")\n",
    "employee1 = Employee(\"Pw skills\", 1001, \"Manager\")\n",
    "employee2 = Employee(\"Rahul Ranjan\", 1002, \"Developer\")\n",
    "employee1.display_info()\n",
    "employee2.display_info()\n"
   ]
  },
  {
   "cell_type": "markdown",
   "metadata": {},
   "source": [
    "Q2:- Name the four pillars of OOPs."
   ]
  },
  {
   "cell_type": "markdown",
   "metadata": {},
   "source": [
    "The four pillars of object-oriented programming (OOP) are:"
   ]
  },
  {
   "cell_type": "markdown",
   "metadata": {},
   "source": [
    "1. Encapsulation\n",
    "\n",
    "2. Inheritance\n",
    "\n",
    "3. Polymorphism\n",
    "\n",
    "4. Abstraction\n"
   ]
  },
  {
   "cell_type": "markdown",
   "metadata": {},
   "source": [
    "Q3:- Explain why the __init__() function is used. Give a suitable example"
   ]
  },
  {
   "cell_type": "markdown",
   "metadata": {},
   "source": [
    "The __init__() function in Python is a special method (also known as a constructor) that is automatically called when a new instance of a class is created. It's used to initialize the attributes (or properties) of the object with specific values.\n",
    "\n",
    "Here's why the __init__() function is used:\n",
    "\n",
    "Attribute Initialization: It allows you to set initial values for the attributes of an object. This is particularly useful when you want every instance of a class to have certain attributes initialized to specific values when it's created.\n",
    "\n",
    "Custom Initialization Logic: You can perform any custom initialization logic inside the __init__() method. For example, you might want to validate the input values, perform some calculations, or set up some default values before the object is ready for use.\n",
    "\n",
    "Self-reference: The __init__() method typically takes the self parameter, which represents the newly created object itself. This allows you to refer to the object's attributes and methods within the initialization process."
   ]
  },
  {
   "cell_type": "code",
   "execution_count": 3,
   "metadata": {},
   "outputs": [
    {
     "name": "stdout",
     "output_type": "stream",
     "text": [
      "Moti is 3 years old.\n",
      "Moti says: Woof!\n",
      "Tomi is 5 years old.\n",
      "Tomi says: Woof!\n"
     ]
    }
   ],
   "source": [
    "class Dog:\n",
    "    def __init__(self, name, age):\n",
    "        self.name = name\n",
    "        self.age = age\n",
    "\n",
    "    def bark(self):\n",
    "        print(f\"{self.name} says: Woof!\")\n",
    "dog1 = Dog(\"Moti\", 3)\n",
    "dog2 = Dog(\"Tomi\", 5)\n",
    "print(f\"{dog1.name} is {dog1.age} years old.\")\n",
    "dog1.bark()  \n",
    "print(f\"{dog2.name} is {dog2.age} years old.\")\n",
    "dog2.bark()  "
   ]
  },
  {
   "cell_type": "markdown",
   "metadata": {},
   "source": [
    "Q4:- Why self is used in OOPs?"
   ]
  },
  {
   "cell_type": "markdown",
   "metadata": {},
   "source": [
    "In object-oriented programming (OOP), self is a reference to the current instance of the class. It is used to access attributes and methods of the class within its own methods. The purpose of self is to differentiate between instance variables (attributes) and local variables within the scope of a method.\n",
    "\n",
    "Here are a few reasons why self is used in OOP:\n",
    "\n",
    "Instance-specific Access: Within a class method, self allows access to instance variables and methods. Since each instance of a class can have different attribute values, self ensures that the correct instance's attributes are accessed and manipulated.\n",
    "\n",
    "Method Invocation: When calling a method on an object (instance), Python automatically passes the object itself as the first argument to the method. By convention, this parameter is named self, but you can choose any name for it. Using self explicitly clarifies that the method belongs to the instance and not to the class itself.\n",
    "\n",
    "Clarity and Convention: Using self makes the code more readable and understandable. It's a widely accepted convention in Python and many other object-oriented languages. It clearly indicates that the method or attribute belongs to the instance rather than being a class-level or static entity.\n",
    "\n",
    "Instance Creation: During object instantiation, self is used to refer to the newly created instance. It helps in initializing the instance variables with the values provided during instantiation."
   ]
  },
  {
   "cell_type": "markdown",
   "metadata": {},
   "source": [
    "Q5:- What is inheritance? Give an example for each type of inheritance."
   ]
  },
  {
   "cell_type": "markdown",
   "metadata": {},
   "source": [
    "\n",
    "Inheritance is a fundamental concept in object-oriented programming (OOP) that allows a new class (called a subclass or derived class) to inherit properties and behaviors (attributes and methods) from an existing class (called a superclass or base class). This enables code reuse, promotes modularity, and allows for the creation of hierarchical relationships between classes.\n",
    "\n",
    "There are several types of inheritance in OOP, including:\n",
    "\n",
    "Single Inheritance: In single inheritance, a subclass inherits from only one superclass. This is the simplest form of inheritance.\n",
    "Example:"
   ]
  },
  {
   "cell_type": "code",
   "execution_count": 4,
   "metadata": {},
   "outputs": [
    {
     "name": "stdout",
     "output_type": "stream",
     "text": [
      "Dog barks\n",
      "Animal speaks\n"
     ]
    }
   ],
   "source": [
    "class Animal:\n",
    "    def speak(self):\n",
    "        print(\"Animal speaks\")\n",
    "class Dog(Animal):\n",
    "    def bark(self):\n",
    "        print(\"Dog barks\")\n",
    "dog = Dog()\n",
    "dog.bark()  \n",
    "dog.speak()  "
   ]
  },
  {
   "cell_type": "markdown",
   "metadata": {},
   "source": [
    "Multiple Inheritance: In multiple inheritance, a subclass inherits from more than one superclass. This allows the subclass to inherit attributes and methods from multiple sources.\n",
    "Example"
   ]
  },
  {
   "cell_type": "code",
   "execution_count": 5,
   "metadata": {},
   "outputs": [
    {
     "name": "stdout",
     "output_type": "stream",
     "text": [
      "Can fly\n",
      "Can swim\n"
     ]
    }
   ],
   "source": [
    "class Flyable:\n",
    "    def fly(self):\n",
    "        print(\"Can fly\")\n",
    "\n",
    "class Swimmable:\n",
    "    def swim(self):\n",
    "        print(\"Can swim\")\n",
    "class Duck(Flyable, Swimmable):\n",
    "    pass\n",
    "duck = Duck()\n",
    "duck.fly()  \n",
    "duck.swim()  "
   ]
  },
  {
   "cell_type": "markdown",
   "metadata": {},
   "source": [
    "Multilevel Inheritance: In multilevel inheritance, a subclass inherits from another subclass, forming a hierarchy of classes.\n",
    "Example:"
   ]
  },
  {
   "cell_type": "code",
   "execution_count": 6,
   "metadata": {},
   "outputs": [
    {
     "name": "stdout",
     "output_type": "stream",
     "text": [
      "Dog barks\n",
      "Animal speaks\n",
      "Labrador is golden\n"
     ]
    }
   ],
   "source": [
    "class Animal:\n",
    "    def speak(self):\n",
    "        print(\"Animal speaks\")\n",
    "class Dog(Animal):\n",
    "    def bark(self):\n",
    "        print(\"Dog barks\")\n",
    "class Labrador(Dog):\n",
    "    def color(self):\n",
    "        print(\"Labrador is golden\")\n",
    "labrador = Labrador()\n",
    "labrador.bark()   \n",
    "labrador.speak() \n",
    "labrador.color()  "
   ]
  }
 ],
 "metadata": {
  "kernelspec": {
   "display_name": "Python 3",
   "language": "python",
   "name": "python3"
  },
  "language_info": {
   "codemirror_mode": {
    "name": "ipython",
    "version": 3
   },
   "file_extension": ".py",
   "mimetype": "text/x-python",
   "name": "python",
   "nbconvert_exporter": "python",
   "pygments_lexer": "ipython3",
   "version": "3.12.2"
  }
 },
 "nbformat": 4,
 "nbformat_minor": 2
}
