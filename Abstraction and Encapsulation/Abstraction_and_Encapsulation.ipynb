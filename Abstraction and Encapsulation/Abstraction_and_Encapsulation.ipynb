{
 "cells": [
  {
   "cell_type": "markdown",
   "metadata": {},
   "source": [
    "Q1:-  What is Abstraction in OOps? Explain with an example."
   ]
  },
  {
   "cell_type": "markdown",
   "metadata": {},
   "source": [
    "Abstraction in Object-Oriented Programming (OOP) is the process of hiding the complex implementation details and showing only the essential features of an object. It allows us to focus on what an object does rather than how it does it. In simpler terms, abstraction helps in modeling real-world entities as simplified representations in code."
   ]
  },
  {
   "cell_type": "code",
   "execution_count": 1,
   "metadata": {},
   "outputs": [
    {
     "name": "stdout",
     "output_type": "stream",
     "text": [
      "Toyota starts the engine.\n",
      "Toyota stops the engine.\n",
      "Trek starts pedaling.\n",
      "Trek stops pedaling.\n"
     ]
    }
   ],
   "source": [
    "class Vehicle:\n",
    "    def __init__(self, name):\n",
    "        self.name = name\n",
    "\n",
    "    def start(self):\n",
    "        raise NotImplementedError(\"Abstract method not implemented\")\n",
    "\n",
    "    def stop(self):\n",
    "        raise NotImplementedError(\"Abstract method not implemented\")\n",
    "class Car(Vehicle):\n",
    "    def start(self):\n",
    "        return f\"{self.name} starts the engine.\"\n",
    "\n",
    "    def stop(self):\n",
    "        return f\"{self.name} stops the engine.\"\n",
    "\n",
    "class Bicycle(Vehicle):\n",
    "    def start(self):\n",
    "        return f\"{self.name} starts pedaling.\"\n",
    "\n",
    "    def stop(self):\n",
    "        return f\"{self.name} stops pedaling.\"\n",
    "car = Car(\"Toyota\")\n",
    "print(car.start())\n",
    "print(car.stop())  \n",
    "\n",
    "bike = Bicycle(\"Trek\")\n",
    "print(bike.start())\n",
    "print(bike.stop()) "
   ]
  },
  {
   "cell_type": "markdown",
   "metadata": {},
   "source": [
    "Q2:-  Differentiate between Abstraction and Encapsulation. Explain with an example."
   ]
  },
  {
   "cell_type": "markdown",
   "metadata": {},
   "source": [
    "Abstraction:\n",
    "\n",
    "Abstraction focuses on hiding the complex implementation details and showing only the essential features of an object.\n",
    "\n",
    "It allows you to represent real-world entities in a simplified manner in your code, focusing on what an object does rather than how it does it.\n",
    "\n",
    "Abstraction is typically achieved through abstract classes and interfaces, defining a blueprint for objects without providing the specific implementation.\n",
    "\n",
    "It helps in managing complexity by breaking down systems into smaller, more manageable parts.\n",
    "\n",
    "Abstraction emphasizes the \"what\" aspect of an object's behavior."
   ]
  },
  {
   "cell_type": "code",
   "execution_count": 2,
   "metadata": {},
   "outputs": [
    {
     "name": "stdout",
     "output_type": "stream",
     "text": [
      "20\n",
      "28.259999999999998\n"
     ]
    }
   ],
   "source": [
    "from abc import ABC, abstractmethod\n",
    "\n",
    "class Shape(ABC):  \n",
    "    @abstractmethod\n",
    "    def area(self):\n",
    "        pass\n",
    "class Rectangle(Shape):\n",
    "    def __init__(self, length, width):\n",
    "        self.length = length\n",
    "        self.width = width\n",
    "    def area(self):  \n",
    "         return self.length * self.width\n",
    "class Circle(Shape):\n",
    "    def __init__(self, radius):\n",
    "        self.radius = radius\n",
    "    def area(self):\n",
    "        return 3.14 * self.radius * self.radius\n",
    "rectangle = Rectangle(5, 4) \n",
    "print(rectangle.area())  \n",
    "\n",
    "circle = Circle(3)  \n",
    "print(circle.area())     "
   ]
  },
  {
   "cell_type": "markdown",
   "metadata": {},
   "source": [
    "Encapsulation:\n",
    "\n",
    "Encapsulation involves bundling the data (attributes) and methods (functions) that operate on the data into a single unit (a class), and controlling access to that unit through access modifiers.\n",
    "\n",
    "It hides the internal state of an object from the outside world and only exposes the necessary parts through well-defined interfaces.\n",
    "\n",
    "Encapsulation provides data security and helps in preventing unintended interference by external code.\n",
    "\n",
    "It enables better maintainability and flexibility of the code by allowing changes to the internal implementation without affecting the external code.\n",
    "\n",
    "Encapsulation emphasizes the \"how\" aspect of an object's behavior."
   ]
  },
  {
   "cell_type": "code",
   "execution_count": 3,
   "metadata": {},
   "outputs": [
    {
     "name": "stdout",
     "output_type": "stream",
     "text": [
      "1000\n",
      "500\n"
     ]
    }
   ],
   "source": [
    "class BankAccount:\n",
    "    def __init__(self, account_number, balance):\n",
    "        self._account_number = account_number\n",
    "        self._balance = balance               \n",
    "\n",
    "    def deposit(self, amount):\n",
    "        self._balance += amount\n",
    "\n",
    "    def withdraw(self, amount):\n",
    "        if amount <= self._balance:\n",
    "            self._balance -= amount\n",
    "        else:\n",
    "            print(\"Insufficient balance\")\n",
    "\n",
    "    def get_balance(self):\n",
    "        return self._balance\n",
    "account = BankAccount(\"12345\", 1000) \n",
    "print(account.get_balance())  \n",
    "account.withdraw(500)\n",
    "print(account.get_balance())    "
   ]
  },
  {
   "cell_type": "markdown",
   "metadata": {},
   "source": [
    "Q3:- What is abc module in python? Why is it used?"
   ]
  },
  {
   "cell_type": "markdown",
   "metadata": {},
   "source": [
    "\n",
    "The abc module in Python stands for \"Abstract Base Classes.\" It provides infrastructure for defining abstract base classes (ABCs) in Python. Abstract base classes are classes that cannot be instantiated directly but serve as templates for concrete subclasses.\n",
    "\n",
    "Defining Abstract Base Classes (ABCs):\n",
    "The abc module allows you to create abstract base classes using the ABC class and the abstractmethod decorator. Abstract methods defined within an ABC must be implemented by concrete subclasses.\n",
    "\n",
    "Enforcing Method Overrides:\n",
    "By defining abstract methods within ABCs, the abc module ensures that concrete subclasses must implement these methods. This helps in enforcing a common interface across multiple subclasses.\n",
    "\n",
    "Polymorphism:\n",
    "Using ABCs, you can define a common interface for a group of related classes, allowing them to be used interchangeably. This promotes polymorphism in Python programming.\n",
    "\n",
    "Documentation and Design:\n",
    "Abstract base classes can serve as documentation for your code, clearly defining the expected behavior of subclasses. They also help in designing class hierarchies and organizing code in a structured manner."
   ]
  },
  {
   "cell_type": "markdown",
   "metadata": {},
   "source": [
    "Q4:- How can we achieve data abstraction?"
   ]
  },
  {
   "cell_type": "markdown",
   "metadata": {},
   "source": [
    "Data abstraction in programming refers to the process of hiding the implementation details of data and only showing the essential features or interface to the outside world. In Python, you can achieve data abstraction through various mechanisms:\n",
    "\n",
    "Encapsulation:\n",
    "Encapsulation involves bundling the data (attributes) and methods (functions) that operate on the data into a single unit (a class), and controlling access to that unit through access modifiers like private, protected, and public.\n",
    "\n",
    "Private attributes and methods can only be accessed within the class itself and are denoted by prefixing the attribute or method name with double underscores (__).\n",
    "\n",
    "Protected attributes and methods can be accessed within the class itself and its subclasses, and are denoted by prefixing the attribute or method name with a single underscore (_).\n",
    "\n",
    "Properties:\n",
    "Properties in Python provide a way to encapsulate instance attributes and control their access and modification. They allow you to define getter and setter methods for attributes, enabling data abstraction by controlling access to the attribute's underlying data.\n",
    "\n",
    "\n",
    "Getter methods allow retrieving the value of an attribute.\n",
    "\n",
    "\n",
    "Setter methods allow modifying the value of an attribute.\n",
    "\n",
    "Abstract Base Classes (ABCs):\n",
    "\n",
    "Using the abc module, you can define abstract base classes (ABCs) and abstract methods, which must be implemented by concrete subclasses. This promotes data abstraction by defining a common interface for related classes.\n",
    "\n",
    "Abstract methods are methods declared within an abstract class but without an implementation. They must be implemented by concrete subclasses."
   ]
  },
  {
   "cell_type": "markdown",
   "metadata": {},
   "source": [
    "Q5:- Can we create an instance of an abstract class? Explain your answer."
   ]
  },
  {
   "cell_type": "markdown",
   "metadata": {},
   "source": [
    "No, we cannot create an instance of an abstract class directly in Python. Abstract classes are meant to serve as templates for concrete subclasses, defining a common interface and possibly some default behavior through abstract methods. However, they cannot be instantiated on their own because they may contain abstract methods that have no implementation.\n",
    "\n",
    "Attempting to create an instance of an abstract class will result in a TypeError. Instead, we need to create concrete subclasses that inherit from the abstract class and provide implementations for all the abstract methods defined in the abstract class. Only then can instances of these concrete subclasses be created."
   ]
  },
  {
   "cell_type": "code",
   "execution_count": 4,
   "metadata": {},
   "outputs": [
    {
     "name": "stdout",
     "output_type": "stream",
     "text": [
      "Can't instantiate abstract class MyAbstractClass without an implementation for abstract method 'my_abstract_method'\n"
     ]
    }
   ],
   "source": [
    "from abc import ABC, abstractmethod\n",
    "\n",
    "class MyAbstractClass(ABC):\n",
    "    @abstractmethod\n",
    "    def my_abstract_method(self):\n",
    "        pass\n",
    "try:\n",
    "    obj = MyAbstractClass()\n",
    "except TypeError as e:\n",
    "    print(e)  "
   ]
  },
  {
   "cell_type": "markdown",
   "metadata": {},
   "source": [
    "In this example, MyAbstractClass is an abstract class with one abstract method my_abstract_method(). When attempting to create an instance of MyAbstractClass, Python raises a TypeError indicating that the class cannot be instantiated because it contains abstract methods.\n",
    "\n",
    "To create a usable instance, we must first create a concrete subclass that provides an implementation for my_abstract_method(). Then, we can instantiate the subclass:"
   ]
  },
  {
   "cell_type": "code",
   "execution_count": 5,
   "metadata": {},
   "outputs": [
    {
     "name": "stdout",
     "output_type": "stream",
     "text": [
      "Implementation of my_abstract_method\n"
     ]
    }
   ],
   "source": [
    "class MyConcreteClass(MyAbstractClass):\n",
    "    def my_abstract_method(self):\n",
    "        print(\"Implementation of my_abstract_method\")\n",
    "obj = MyConcreteClass()\n",
    "obj.my_abstract_method() "
   ]
  }
 ],
 "metadata": {
  "kernelspec": {
   "display_name": "Python 3",
   "language": "python",
   "name": "python3"
  },
  "language_info": {
   "codemirror_mode": {
    "name": "ipython",
    "version": 3
   },
   "file_extension": ".py",
   "mimetype": "text/x-python",
   "name": "python",
   "nbconvert_exporter": "python",
   "pygments_lexer": "ipython3",
   "version": "3.12.2"
  }
 },
 "nbformat": 4,
 "nbformat_minor": 2
}
